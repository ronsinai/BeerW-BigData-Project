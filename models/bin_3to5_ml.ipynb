{
 "cells": [
  {
   "cell_type": "markdown",
   "metadata": {},
   "source": [
    "# Bin 3-5 GC ML Models"
   ]
  },
  {
   "cell_type": "markdown",
   "metadata": {},
   "source": [
    "Here, we'll try to apply machine learning models to the 3-5 GC bin occasion classification problem.\n",
    "\n",
    "We've annotated just about 90 tables of 3-5 guests with occasions, nothing much but we'll try to use it with our (semi-/)supervised models."
   ]
  },
  {
   "cell_type": "markdown",
   "metadata": {},
   "source": [
    "-----------"
   ]
  },
  {
   "cell_type": "markdown",
   "metadata": {},
   "source": [
    "## Prepare the data"
   ]
  },
  {
   "cell_type": "code",
   "execution_count": 1,
   "metadata": {},
   "outputs": [],
   "source": [
    "import numpy as np\n",
    "import pandas as pd\n",
    "import matplotlib.pyplot as plt"
   ]
  },
  {
   "cell_type": "code",
   "execution_count": 2,
   "metadata": {},
   "outputs": [],
   "source": [
    "data_map = {\n",
    "    \"hockey\"    : \"../data/hockey_processed_tables.csv\",\n",
    "    \"valentine\" : \"../data/valentine_processed_tables.csv\",\n",
    "    \"silvester\" : \"../data/silvester_processed_tables.csv\"\n",
    "}"
   ]
  },
  {
   "cell_type": "markdown",
   "metadata": {},
   "source": [
    "Read tables data:"
   ]
  },
  {
   "cell_type": "code",
   "execution_count": 3,
   "metadata": {},
   "outputs": [],
   "source": [
    "columns = [\n",
    "    \"order_id\",\n",
    "    \"order_hour\",\n",
    "    #\"order_minute\",\n",
    "    \"order_close_hour\",\n",
    "    #\"order_close_minute\",\n",
    "    \"period_of_day\",\n",
    "    \"order_day_of_week\",\n",
    "    \"is_weekend\",\n",
    "    \"item_qty\",\n",
    "    \"beer_volume\",\n",
    "    \"guest_count\",\n",
    "    \"total_orders_category_id_1.0\",\n",
    "    \"total_orders_category_id_2.0\",\n",
    "    \"total_orders_category_id_3.0\",\n",
    "    \"total_orders_category_id_4.0\",\n",
    "    \"total_orders_category_id_5.0\",\n",
    "    \"total_orders_category_id_6.0\",\n",
    "    \"total_orders\",\n",
    "    \"total_large_meals\",\n",
    "    \"total_small_meals\",\n",
    "    \"total_large_sharable_meals\",\n",
    "    \"total_small_sharable_meals\",\n",
    "    \"sharable\",\n",
    "    \"kids_meal\",\n",
    "    \"birthday\",\n",
    "    \"dwell_time\",\n",
    "    \"meal_flow_last_to_close\",\n",
    "    \"total_flow_steps\",\n",
    "    \"total_meal_steps\",\n",
    "    \"avg_time_between_steps\",\n",
    "    \"sit_to_order\",\n",
    "    \"max_items_per_step\",\n",
    "    \"total_sales_before_tax\"#,\n",
    "    #\"total_sales_inc_tax\"\n",
    "]"
   ]
  },
  {
   "cell_type": "code",
   "execution_count": 4,
   "metadata": {},
   "outputs": [],
   "source": [
    "df = {}\n",
    "df_orig = {}\n",
    "\n",
    "for table in data_map.keys():\n",
    "    df[table] = pd.read_csv(data_map[table], usecols=columns)\n",
    "    df_orig[table] = pd.read_csv(data_map[table], usecols=columns)\n",
    "\n",
    "df = pd.concat([df[table] for table in data_map.keys()])\n",
    "df_orig = pd.concat([df_orig[table] for table in data_map.keys()])"
   ]
  },
  {
   "cell_type": "markdown",
   "metadata": {},
   "source": [
    "Keep 3-5 guests tables only:"
   ]
  },
  {
   "cell_type": "code",
   "execution_count": 5,
   "metadata": {},
   "outputs": [
    {
     "name": "stdout",
     "output_type": "stream",
     "text": [
      "(243755, 31)\n"
     ]
    }
   ],
   "source": [
    "print(df.shape)"
   ]
  },
  {
   "cell_type": "code",
   "execution_count": 6,
   "metadata": {},
   "outputs": [
    {
     "name": "stdout",
     "output_type": "stream",
     "text": [
      "<class 'pandas.core.frame.DataFrame'>\n",
      "Int64Index: 243755 entries, 0 to 88995\n",
      "Data columns (total 31 columns):\n",
      "order_id                        243755 non-null int64\n",
      "order_hour                      243755 non-null int64\n",
      "order_close_hour                243755 non-null int64\n",
      "period_of_day                   243755 non-null object\n",
      "order_day_of_week               243755 non-null object\n",
      "is_weekend                      243755 non-null bool\n",
      "item_qty                        243755 non-null float64\n",
      "beer_volume                     243755 non-null float64\n",
      "guest_count                     243755 non-null int64\n",
      "total_orders_category_id_1.0    243755 non-null float64\n",
      "total_orders_category_id_2.0    243755 non-null float64\n",
      "total_orders_category_id_3.0    243755 non-null float64\n",
      "total_orders_category_id_4.0    243755 non-null float64\n",
      "total_orders_category_id_5.0    243755 non-null float64\n",
      "total_orders_category_id_6.0    243755 non-null float64\n",
      "total_orders                    243755 non-null int64\n",
      "total_large_meals               243755 non-null float64\n",
      "total_small_meals               243755 non-null float64\n",
      "total_large_sharable_meals      243755 non-null float64\n",
      "total_small_sharable_meals      243755 non-null float64\n",
      "sharable                        243755 non-null int64\n",
      "kids_meal                       243755 non-null int64\n",
      "birthday                        243755 non-null int64\n",
      "dwell_time                      243755 non-null float64\n",
      "meal_flow_last_to_close         243755 non-null int64\n",
      "total_flow_steps                243755 non-null int64\n",
      "total_meal_steps                243755 non-null int64\n",
      "avg_time_between_steps          243755 non-null float64\n",
      "sit_to_order                    243755 non-null int64\n",
      "max_items_per_step              243755 non-null int64\n",
      "total_sales_before_tax          243755 non-null float64\n",
      "dtypes: bool(1), float64(15), int64(13), object(2)\n",
      "memory usage: 57.9+ MB\n"
     ]
    }
   ],
   "source": [
    "df.info()"
   ]
  },
  {
   "cell_type": "markdown",
   "metadata": {},
   "source": [
    "Keep 3-5 guests tables only:"
   ]
  },
  {
   "cell_type": "code",
   "execution_count": 7,
   "metadata": {},
   "outputs": [],
   "source": [
    "df = df[(df['guest_count'] >= 3) & (df['guest_count'] <= 5)]"
   ]
  },
  {
   "cell_type": "code",
   "execution_count": 8,
   "metadata": {},
   "outputs": [
    {
     "name": "stdout",
     "output_type": "stream",
     "text": [
      "(32742, 31)\n"
     ]
    }
   ],
   "source": [
    "print(df.shape)"
   ]
  },
  {
   "cell_type": "markdown",
   "metadata": {},
   "source": [
    "Get dummies for non-numeric (categorical) features:"
   ]
  },
  {
   "cell_type": "code",
   "execution_count": 9,
   "metadata": {},
   "outputs": [],
   "source": [
    "df = pd.concat([df, pd.get_dummies(df[\"period_of_day\"], prefix=\"period_of_day\")], axis=1)\n",
    "df = pd.concat([df, pd.get_dummies(df[\"order_day_of_week\"], prefix=\"order_day_of_week\")], axis=1)"
   ]
  },
  {
   "cell_type": "code",
   "execution_count": 10,
   "metadata": {},
   "outputs": [],
   "source": [
    "df.drop([\"period_of_day\", \"order_day_of_week\"], axis=1, inplace=True)"
   ]
  },
  {
   "cell_type": "code",
   "execution_count": 11,
   "metadata": {},
   "outputs": [
    {
     "name": "stdout",
     "output_type": "stream",
     "text": [
      "(32742, 42)\n"
     ]
    }
   ],
   "source": [
    "print(df.shape)"
   ]
  },
  {
   "cell_type": "markdown",
   "metadata": {},
   "source": [
    "Note we've dropped the non-numeric features."
   ]
  },
  {
   "cell_type": "markdown",
   "metadata": {},
   "source": [
    "Get labels:"
   ]
  },
  {
   "cell_type": "code",
   "execution_count": 12,
   "metadata": {},
   "outputs": [],
   "source": [
    "labeled_tables_map = {\n",
    "    \"hockey\": [\n",
    "        (520803608, \"LUNCH\"),\n",
    "        (523294848, \"FAMILY_EVENT\"),\n",
    "        (514583822, \"SOCIAL_GATHERING\"),\n",
    "        (524421347, \"FAMILY_EVENT\"),\n",
    "        (521095118, \"DRINKING\"),\n",
    "        (522574215, \"FAMILY_EVENT\"),\n",
    "        (522779155, \"DRINKING\"),\n",
    "        (515363895, \"BREAKFAST\"),\n",
    "        (519501788, \"FAMILY_EVENT\"),\n",
    "        (514529424, \"SOCIAL_GATHERING\"),\n",
    "        (513486993, \"LUNCH\"),\n",
    "        (522542767, \"FAMILY_EVENT\"),\n",
    "        (523317944, \"FAMILY_EVENT\"),\n",
    "        (520779953, \"SOCIAL_GATHERING\"),\n",
    "        (514329317, \"LUNCH\"),\n",
    "        (524196111, \"LUNCH\"),\n",
    "        (525550553, \"DINNER\"),\n",
    "        (519525238, \"DINNER\"),\n",
    "        (513506080, \"FAMILY_EVENT\"),\n",
    "        (520130914, \"FAMILY_EVENT\"),\n",
    "        (523514188, \"DINNER\"),\n",
    "        (523328731, \"LUNCH\"),\n",
    "        (521804862, \"DINNER\"),\n",
    "        (524442000, \"DINNER\"),\n",
    "        (514472097, \"FAMILY_EVENT\"),\n",
    "        (521770033, \"DINNER\"),\n",
    "        (520119333, \"DINNER\"),\n",
    "        (525397783, \"LUNCH\"),\n",
    "        (511353667, \"AFTER_WORK\"),\n",
    "        (522420188, \"LUNCH\")\n",
    "    ],\n",
    "    \"valentine\": [\n",
    "        (447441456, \"FAMILY_EVENT\"),\n",
    "        (435005397, \"SOCIAL_GATHERING\"),\n",
    "        (435011399, \"LUNCH\"),\n",
    "        (447381509, \"LUNCH\"),\n",
    "        (446744761, \"LUNCH\"),\n",
    "        (447079489, \"DINNER\"),\n",
    "        (434609975, \"FAMILY_EVENT\"),\n",
    "        (448041560, \"DINNER\"),\n",
    "        (447074978, \"AFTER_WORK\"),\n",
    "        (434603220, \"LUNCH\"),\n",
    "        (446798723, \"DINNER\"),\n",
    "        (448169651, \"SOCIAL_GATHERING\"),\n",
    "        (434708231, \"DINNER\"),\n",
    "        (447647574, \"DRINKING\"),\n",
    "        (448003813, \"FAMILY_EVENT\"),\n",
    "        (447986271, \"FAMILY_EVENT\"),\n",
    "        (447020385, \"LUNCH\"),\n",
    "        (447091085, \"DINNER\"),\n",
    "        (435006071, \"LUNCH\"),\n",
    "        (434752383, \"SOCIAL_GATHERING\"),\n",
    "        (447523773, \"FAMILY_EVENT\"),\n",
    "        (435067253, \"DINNER\"),\n",
    "        (434617535, \"DRINKING\"),\n",
    "        (447986377, \"DINNER\"),\n",
    "        (447877104, \"LUNCH\"),\n",
    "        (447558662, \"FAMILY_EVENT\"),\n",
    "        (448008007, \"FAMILY_EVENT\"),\n",
    "        (447497220, \"DRINKING\"),\n",
    "        (435171863, \"DINNER\"),\n",
    "        (447019409, \"LUNCH\")\n",
    "    ],\n",
    "    \"silvester\": [\n",
    "        (362939931, \"AFTER_WORK\"),\n",
    "        (361304992, \"FAMILY_EVENT\"),\n",
    "        (363233153, \"LUNCH\"),\n",
    "        (360790021, \"LUNCH\"),\n",
    "        (362924064, \"AFTER_WORK\"),\n",
    "        (361776660, \"DINNER\"),\n",
    "        (361815160, \"DINNER\"),\n",
    "        (360000762, \"DINNER\"),\n",
    "        (360402335, \"DINNER\"),\n",
    "        (361369624, \"FAMILY_EVENT\"),\n",
    "        (363177655, \"BREAKFAST\"),\n",
    "        (359978168, \"FAMILY_EVENT\"),\n",
    "        (359644089, \"SOCIAL_GATHERING\"),\n",
    "        (362094000, \"BREAKFAST\"),\n",
    "        (361772528, \"DINNER\"),\n",
    "        (359978861, \"LUNCH\"),\n",
    "        (360862630, \"SOCIAL_GATHERING\"),\n",
    "        (362626040, \"AFTER_WORK\"),\n",
    "        (359970875, \"LUNCH\"),\n",
    "        (363694039, \"FAMILY_EVENT\"),\n",
    "        (361723648, \"DINNER\"),\n",
    "        (360802830, \"FAMILY_EVENT\"),\n",
    "        (360778622, \"LUNCH\"),\n",
    "        (360543623, \"LUNCH\"),\n",
    "        (363655255, \"LUNCH\"),\n",
    "        (360057302, \"DINNER\"),\n",
    "        (361881265, \"DRINKING\"),\n",
    "        (360336485, \"SOCIAL_GATHERING\"),\n",
    "        (359420117, \"LUNCH\"),\n",
    "        (361326979, \"FAMILY_EVENT\")\n",
    "    ]\n",
    "}"
   ]
  },
  {
   "cell_type": "code",
   "execution_count": 13,
   "metadata": {},
   "outputs": [
    {
     "name": "stdout",
     "output_type": "stream",
     "text": [
      "Total of 90 labeled tables.\n"
     ]
    }
   ],
   "source": [
    "labels = []\n",
    "\n",
    "for table in data_map.keys():\n",
    "    labels = labels + labeled_tables_map[table]\n",
    "\n",
    "assert(len(labels) == 90)\n",
    "print(\"Total of {} labeled tables.\".format(len(labels)))"
   ]
  },
  {
   "cell_type": "code",
   "execution_count": 14,
   "metadata": {},
   "outputs": [],
   "source": [
    "labeled_orders = [order_id for order_id, label in labels]\n",
    "labeled_labels = [label for order_id, label in labels]"
   ]
  },
  {
   "cell_type": "markdown",
   "metadata": {},
   "source": [
    "Split to *labeled* and *unlabeled* sets:"
   ]
  },
  {
   "cell_type": "code",
   "execution_count": 15,
   "metadata": {},
   "outputs": [
    {
     "data": {
      "text/html": [
       "<div>\n",
       "<style scoped>\n",
       "    .dataframe tbody tr th:only-of-type {\n",
       "        vertical-align: middle;\n",
       "    }\n",
       "\n",
       "    .dataframe tbody tr th {\n",
       "        vertical-align: top;\n",
       "    }\n",
       "\n",
       "    .dataframe thead th {\n",
       "        text-align: right;\n",
       "    }\n",
       "</style>\n",
       "<table border=\"1\" class=\"dataframe\">\n",
       "  <thead>\n",
       "    <tr style=\"text-align: right;\">\n",
       "      <th></th>\n",
       "      <th>order_id</th>\n",
       "      <th>order_hour</th>\n",
       "      <th>order_close_hour</th>\n",
       "      <th>is_weekend</th>\n",
       "      <th>item_qty</th>\n",
       "      <th>beer_volume</th>\n",
       "      <th>guest_count</th>\n",
       "      <th>total_orders_category_id_1.0</th>\n",
       "      <th>total_orders_category_id_2.0</th>\n",
       "      <th>total_orders_category_id_3.0</th>\n",
       "      <th>...</th>\n",
       "      <th>period_of_day_hang_out</th>\n",
       "      <th>period_of_day_lunch</th>\n",
       "      <th>period_of_day_night</th>\n",
       "      <th>order_day_of_week_Friday</th>\n",
       "      <th>order_day_of_week_Monday</th>\n",
       "      <th>order_day_of_week_Saturday</th>\n",
       "      <th>order_day_of_week_Sunday</th>\n",
       "      <th>order_day_of_week_Thursday</th>\n",
       "      <th>order_day_of_week_Tuesday</th>\n",
       "      <th>order_day_of_week_Wednesday</th>\n",
       "    </tr>\n",
       "  </thead>\n",
       "  <tbody>\n",
       "    <tr>\n",
       "      <th>8</th>\n",
       "      <td>510839700</td>\n",
       "      <td>0</td>\n",
       "      <td>1</td>\n",
       "      <td>False</td>\n",
       "      <td>6.0</td>\n",
       "      <td>0.000</td>\n",
       "      <td>3</td>\n",
       "      <td>0.0</td>\n",
       "      <td>0.0</td>\n",
       "      <td>0.0</td>\n",
       "      <td>...</td>\n",
       "      <td>0</td>\n",
       "      <td>0</td>\n",
       "      <td>1</td>\n",
       "      <td>0</td>\n",
       "      <td>0</td>\n",
       "      <td>0</td>\n",
       "      <td>0</td>\n",
       "      <td>0</td>\n",
       "      <td>0</td>\n",
       "      <td>1</td>\n",
       "    </tr>\n",
       "    <tr>\n",
       "      <th>20</th>\n",
       "      <td>510840997</td>\n",
       "      <td>1</td>\n",
       "      <td>1</td>\n",
       "      <td>False</td>\n",
       "      <td>3.0</td>\n",
       "      <td>0.000</td>\n",
       "      <td>3</td>\n",
       "      <td>0.0</td>\n",
       "      <td>3.0</td>\n",
       "      <td>0.0</td>\n",
       "      <td>...</td>\n",
       "      <td>0</td>\n",
       "      <td>0</td>\n",
       "      <td>1</td>\n",
       "      <td>0</td>\n",
       "      <td>0</td>\n",
       "      <td>0</td>\n",
       "      <td>0</td>\n",
       "      <td>0</td>\n",
       "      <td>0</td>\n",
       "      <td>1</td>\n",
       "    </tr>\n",
       "    <tr>\n",
       "      <th>48</th>\n",
       "      <td>510841710</td>\n",
       "      <td>0</td>\n",
       "      <td>1</td>\n",
       "      <td>False</td>\n",
       "      <td>9.0</td>\n",
       "      <td>4.728</td>\n",
       "      <td>4</td>\n",
       "      <td>8.0</td>\n",
       "      <td>1.0</td>\n",
       "      <td>0.0</td>\n",
       "      <td>...</td>\n",
       "      <td>0</td>\n",
       "      <td>0</td>\n",
       "      <td>1</td>\n",
       "      <td>0</td>\n",
       "      <td>0</td>\n",
       "      <td>0</td>\n",
       "      <td>0</td>\n",
       "      <td>0</td>\n",
       "      <td>0</td>\n",
       "      <td>1</td>\n",
       "    </tr>\n",
       "    <tr>\n",
       "      <th>52</th>\n",
       "      <td>510841715</td>\n",
       "      <td>1</td>\n",
       "      <td>1</td>\n",
       "      <td>False</td>\n",
       "      <td>4.0</td>\n",
       "      <td>1.155</td>\n",
       "      <td>4</td>\n",
       "      <td>3.0</td>\n",
       "      <td>0.0</td>\n",
       "      <td>1.0</td>\n",
       "      <td>...</td>\n",
       "      <td>0</td>\n",
       "      <td>0</td>\n",
       "      <td>1</td>\n",
       "      <td>0</td>\n",
       "      <td>0</td>\n",
       "      <td>0</td>\n",
       "      <td>0</td>\n",
       "      <td>0</td>\n",
       "      <td>0</td>\n",
       "      <td>1</td>\n",
       "    </tr>\n",
       "    <tr>\n",
       "      <th>66</th>\n",
       "      <td>510843783</td>\n",
       "      <td>0</td>\n",
       "      <td>1</td>\n",
       "      <td>False</td>\n",
       "      <td>7.0</td>\n",
       "      <td>1.536</td>\n",
       "      <td>3</td>\n",
       "      <td>4.0</td>\n",
       "      <td>2.0</td>\n",
       "      <td>1.0</td>\n",
       "      <td>...</td>\n",
       "      <td>0</td>\n",
       "      <td>0</td>\n",
       "      <td>1</td>\n",
       "      <td>0</td>\n",
       "      <td>0</td>\n",
       "      <td>0</td>\n",
       "      <td>0</td>\n",
       "      <td>0</td>\n",
       "      <td>0</td>\n",
       "      <td>1</td>\n",
       "    </tr>\n",
       "  </tbody>\n",
       "</table>\n",
       "<p>5 rows × 42 columns</p>\n",
       "</div>"
      ],
      "text/plain": [
       "     order_id  order_hour  order_close_hour  is_weekend  item_qty  \\\n",
       "8   510839700           0                 1       False       6.0   \n",
       "20  510840997           1                 1       False       3.0   \n",
       "48  510841710           0                 1       False       9.0   \n",
       "52  510841715           1                 1       False       4.0   \n",
       "66  510843783           0                 1       False       7.0   \n",
       "\n",
       "    beer_volume  guest_count  total_orders_category_id_1.0  \\\n",
       "8         0.000            3                           0.0   \n",
       "20        0.000            3                           0.0   \n",
       "48        4.728            4                           8.0   \n",
       "52        1.155            4                           3.0   \n",
       "66        1.536            3                           4.0   \n",
       "\n",
       "    total_orders_category_id_2.0  total_orders_category_id_3.0  \\\n",
       "8                            0.0                           0.0   \n",
       "20                           3.0                           0.0   \n",
       "48                           1.0                           0.0   \n",
       "52                           0.0                           1.0   \n",
       "66                           2.0                           1.0   \n",
       "\n",
       "               ...               period_of_day_hang_out  period_of_day_lunch  \\\n",
       "8              ...                                    0                    0   \n",
       "20             ...                                    0                    0   \n",
       "48             ...                                    0                    0   \n",
       "52             ...                                    0                    0   \n",
       "66             ...                                    0                    0   \n",
       "\n",
       "    period_of_day_night  order_day_of_week_Friday  order_day_of_week_Monday  \\\n",
       "8                     1                         0                         0   \n",
       "20                    1                         0                         0   \n",
       "48                    1                         0                         0   \n",
       "52                    1                         0                         0   \n",
       "66                    1                         0                         0   \n",
       "\n",
       "    order_day_of_week_Saturday  order_day_of_week_Sunday  \\\n",
       "8                            0                         0   \n",
       "20                           0                         0   \n",
       "48                           0                         0   \n",
       "52                           0                         0   \n",
       "66                           0                         0   \n",
       "\n",
       "    order_day_of_week_Thursday  order_day_of_week_Tuesday  \\\n",
       "8                            0                          0   \n",
       "20                           0                          0   \n",
       "48                           0                          0   \n",
       "52                           0                          0   \n",
       "66                           0                          0   \n",
       "\n",
       "    order_day_of_week_Wednesday  \n",
       "8                             1  \n",
       "20                            1  \n",
       "48                            1  \n",
       "52                            1  \n",
       "66                            1  \n",
       "\n",
       "[5 rows x 42 columns]"
      ]
     },
     "execution_count": 15,
     "metadata": {},
     "output_type": "execute_result"
    }
   ],
   "source": [
    "df.head()"
   ]
  },
  {
   "cell_type": "code",
   "execution_count": 16,
   "metadata": {},
   "outputs": [],
   "source": [
    "labeled = df[df.order_id.isin(labeled_orders)]\n",
    "unlabeled = df[~df.order_id.isin(labeled_orders)]"
   ]
  },
  {
   "cell_type": "code",
   "execution_count": 17,
   "metadata": {},
   "outputs": [],
   "source": [
    "df.drop([\"order_id\"], axis=1, inplace=True)"
   ]
  },
  {
   "cell_type": "code",
   "execution_count": 18,
   "metadata": {},
   "outputs": [
    {
     "name": "stdout",
     "output_type": "stream",
     "text": [
      "(32742, 41)\n"
     ]
    }
   ],
   "source": [
    "print(df.shape)"
   ]
  },
  {
   "cell_type": "code",
   "execution_count": 19,
   "metadata": {},
   "outputs": [
    {
     "name": "stdout",
     "output_type": "stream",
     "text": [
      "initial set size: 32742\n",
      "labeled set size: 90\n",
      "unlabeled set size: 32652\n"
     ]
    }
   ],
   "source": [
    "print(\"initial set size: {}\".format(len(df)))\n",
    "print(\"labeled set size: {}\".format(len(labeled)))\n",
    "print(\"unlabeled set size: {}\".format(len(unlabeled)))"
   ]
  },
  {
   "cell_type": "markdown",
   "metadata": {},
   "source": [
    "The unlabeled set is **useless**:  \n",
    "We'll use the 90 labeled tables for *DEV* and *TEST*."
   ]
  },
  {
   "cell_type": "markdown",
   "metadata": {},
   "source": [
    "----"
   ]
  },
  {
   "cell_type": "markdown",
   "metadata": {},
   "source": [
    "## SKLearn Workflow\n",
    "\n",
    "1. Choose a class of model by importing the appropriate estimator class from Scikit-Learn.\n",
    "2. Choose model hyperparameters by instantiating this class wih desired values.\n",
    "3. Arrange data into a features matrix and target vector following the discussion above.\n",
    "4. Fit the model to your data by calling the *fit()* method of the model instance.\n",
    "5. Apply the model to new data:  \n",
    "    a. For *supervised* learning, often we predict labels for unknown data using the *predict()* method.  \n",
    "    b. For *unsupervised* learning, we often transform or infer properties of the data using the *transform()* or *predict()* method.  "
   ]
  },
  {
   "cell_type": "markdown",
   "metadata": {},
   "source": [
    "### Choosing an Algorithm"
   ]
  },
  {
   "cell_type": "markdown",
   "metadata": {},
   "source": [
    "![Choosing an Algorithm](../images/ml_map.png)"
   ]
  },
  {
   "cell_type": "markdown",
   "metadata": {},
   "source": [
    "- We do have > 50 samples\n",
    "- We are predicting a category (so *Regression* and *Dimensionality Reduction* are not relevant)\n",
    "- We have very little amount of labeled data, so we split:\n",
    "    - *Classification*:\n",
    "        - We have < 100k samples, try **SVM**\n",
    "        - If that fails (which will probably happen), try **K - Nearest Neighbors** (since there's no text data)\n",
    "        - At last, use **Decision Tree**, which will probably work best\n",
    "    - *Clustering*:\n",
    "        - Number of categories is (~)known, try **KMeans**\n",
    "\n",
    "\n",
    "✅ - Successful  \n",
    "❌ - Unsuccessful"
   ]
  },
  {
   "cell_type": "markdown",
   "metadata": {},
   "source": [
    "------------"
   ]
  },
  {
   "cell_type": "markdown",
   "metadata": {},
   "source": [
    "### Supervised (classification)"
   ]
  },
  {
   "cell_type": "markdown",
   "metadata": {},
   "source": [
    "#### Decision Tree - ❌\n",
    "\n",
    "![Decision Tree](../images/decision_tree.png)"
   ]
  },
  {
   "cell_type": "code",
   "execution_count": 20,
   "metadata": {},
   "outputs": [],
   "source": [
    "import numpy as np\n",
    "from sklearn.model_selection import train_test_split\n",
    "from sklearn.tree import DecisionTreeClassifier\n",
    "from sklearn.metrics import accuracy_score\n",
    "from sklearn import tree"
   ]
  },
  {
   "cell_type": "code",
   "execution_count": 21,
   "metadata": {},
   "outputs": [
    {
     "name": "stdout",
     "output_type": "stream",
     "text": [
      "(32742, 41)\n"
     ]
    }
   ],
   "source": [
    "print(df.shape)"
   ]
  },
  {
   "cell_type": "code",
   "execution_count": 22,
   "metadata": {},
   "outputs": [],
   "source": [
    "X = labeled\n",
    "y = labeled_labels"
   ]
  },
  {
   "cell_type": "code",
   "execution_count": 23,
   "metadata": {},
   "outputs": [],
   "source": [
    "X_train, X_test, y_train, y_test = train_test_split(X, y, test_size=0.3, random_state=0)"
   ]
  },
  {
   "cell_type": "code",
   "execution_count": 24,
   "metadata": {},
   "outputs": [
    {
     "name": "stdout",
     "output_type": "stream",
     "text": [
      "(63, 42)\n",
      "(27, 42)\n",
      "63\n",
      "27\n"
     ]
    }
   ],
   "source": [
    "print(X_train.shape)\n",
    "print(X_test.shape)\n",
    "print(len(y_train))\n",
    "print(len(y_test))"
   ]
  },
  {
   "cell_type": "markdown",
   "metadata": {},
   "source": [
    "The Classifier:"
   ]
  },
  {
   "cell_type": "code",
   "execution_count": 25,
   "metadata": {},
   "outputs": [],
   "source": [
    "tree_model = DecisionTreeClassifier(criterion='gini', random_state=0)"
   ]
  },
  {
   "cell_type": "code",
   "execution_count": 26,
   "metadata": {},
   "outputs": [
    {
     "data": {
      "text/plain": [
       "DecisionTreeClassifier(class_weight=None, criterion='gini', max_depth=None,\n",
       "            max_features=None, max_leaf_nodes=None,\n",
       "            min_impurity_decrease=0.0, min_impurity_split=None,\n",
       "            min_samples_leaf=1, min_samples_split=2,\n",
       "            min_weight_fraction_leaf=0.0, presort=False, random_state=0,\n",
       "            splitter='best')"
      ]
     },
     "execution_count": 26,
     "metadata": {},
     "output_type": "execute_result"
    }
   ],
   "source": [
    "tree_model.fit(X_train, y_train)"
   ]
  },
  {
   "cell_type": "code",
   "execution_count": 27,
   "metadata": {},
   "outputs": [
    {
     "data": {
      "text/plain": [
       "1.0"
      ]
     },
     "execution_count": 27,
     "metadata": {},
     "output_type": "execute_result"
    }
   ],
   "source": [
    "tree_model.score(X_train, y_train)"
   ]
  },
  {
   "cell_type": "code",
   "execution_count": 28,
   "metadata": {},
   "outputs": [
    {
     "data": {
      "text/plain": [
       "array(['LUNCH', 'LUNCH', 'SOCIAL_GATHERING', 'AFTER_WORK', 'FAMILY_EVENT',\n",
       "       'FAMILY_EVENT', 'LUNCH', 'LUNCH', 'FAMILY_EVENT', 'LUNCH',\n",
       "       'FAMILY_EVENT', 'FAMILY_EVENT', 'FAMILY_EVENT', 'AFTER_WORK',\n",
       "       'SOCIAL_GATHERING', 'DRINKING', 'SOCIAL_GATHERING', 'FAMILY_EVENT',\n",
       "       'LUNCH', 'LUNCH', 'DINNER', 'FAMILY_EVENT', 'FAMILY_EVENT',\n",
       "       'FAMILY_EVENT', 'DINNER', 'FAMILY_EVENT', 'FAMILY_EVENT'],\n",
       "      dtype='<U16')"
      ]
     },
     "execution_count": 28,
     "metadata": {},
     "output_type": "execute_result"
    }
   ],
   "source": [
    "preds = tree_model.predict(X_test)\n",
    "preds"
   ]
  },
  {
   "cell_type": "code",
   "execution_count": 29,
   "metadata": {},
   "outputs": [
    {
     "name": "stdout",
     "output_type": "stream",
     "text": [
      "Test Accuracy: 5.56%\n"
     ]
    }
   ],
   "source": [
    "ratio = sum(preds == y_test) / len(labeled_labels)\n",
    "print(\"Test Accuracy: {}%\".format(round(100 * ratio, 2)))"
   ]
  },
  {
   "cell_type": "markdown",
   "metadata": {},
   "source": [
    "**We assume the reason for the bad accuracy is due to having too little amount of labeled data for training.**"
   ]
  },
  {
   "cell_type": "markdown",
   "metadata": {},
   "source": [
    "#### Random Forest\n",
    "Simply a collection of decision trees whose results are aggregated into one final result.  \n",
    "With the little amount of annotated data we hold, it is not possible to overfit, so decision trees can work just fine (or, at least, not much worse than a random forest).\n",
    "\n",
    "![Random Forest](../images/random_forest.png)"
   ]
  },
  {
   "cell_type": "markdown",
   "metadata": {},
   "source": [
    "-----------"
   ]
  },
  {
   "cell_type": "markdown",
   "metadata": {},
   "source": [
    "### Unsupervised (clustering)"
   ]
  },
  {
   "cell_type": "markdown",
   "metadata": {},
   "source": [
    "#### K-Means - ✅❌ - pick one\n",
    "\n",
    "![K - Means](../images/kmeans.png)"
   ]
  },
  {
   "cell_type": "code",
   "execution_count": 30,
   "metadata": {},
   "outputs": [],
   "source": [
    "from sklearn.cluster import KMeans\n",
    "from sklearn.preprocessing import MinMaxScaler\n",
    "from sklearn.decomposition import PCA"
   ]
  },
  {
   "cell_type": "code",
   "execution_count": 31,
   "metadata": {},
   "outputs": [],
   "source": [
    "scaler = MinMaxScaler()\n",
    "pca = PCA(n_components=16)\n",
    "kmeans_model = KMeans(n_clusters=7)"
   ]
  },
  {
   "cell_type": "code",
   "execution_count": 32,
   "metadata": {},
   "outputs": [
    {
     "name": "stderr",
     "output_type": "stream",
     "text": [
      "C:\\Users\\Ronni\\Anaconda3\\lib\\site-packages\\sklearn\\preprocessing\\data.py:323: DataConversionWarning: Data with input dtype bool, uint8, int64, float64 were all converted to float64 by MinMaxScaler.\n",
      "  return self.partial_fit(X, y)\n"
     ]
    }
   ],
   "source": [
    "X_scaled = scaler.fit_transform(X)\n",
    "X_pca = pca.fit_transform(X_scaled)"
   ]
  },
  {
   "cell_type": "code",
   "execution_count": 33,
   "metadata": {},
   "outputs": [
    {
     "data": {
      "text/plain": [
       "0.9138041203023514"
      ]
     },
     "execution_count": 33,
     "metadata": {},
     "output_type": "execute_result"
    }
   ],
   "source": [
    "pca.explained_variance_ratio_.sum()"
   ]
  },
  {
   "cell_type": "code",
   "execution_count": 34,
   "metadata": {},
   "outputs": [
    {
     "name": "stderr",
     "output_type": "stream",
     "text": [
      "C:\\Users\\Ronni\\Anaconda3\\lib\\site-packages\\matplotlib\\cbook\\__init__.py:424: MatplotlibDeprecationWarning: \n",
      "Passing one of 'on', 'true', 'off', 'false' as a boolean is deprecated; use an actual boolean (True/False) instead.\n",
      "  warn_deprecated(\"2.2\", \"Passing one of 'on', 'true', 'off', 'false' as a \"\n"
     ]
    },
    {
     "data": {
      "text/plain": [
       "Text(0, 0.5, 'Explained Variance')"
      ]
     },
     "execution_count": 34,
     "metadata": {},
     "output_type": "execute_result"
    },
    {
     "data": {
      "image/png": "[encoded data removed]",
      "text/plain": [
       "<Figure size 432x288 with 1 Axes>"
      ]
     },
     "metadata": {
      "needs_background": "light"
     },
     "output_type": "display_data"
    }
   ],
   "source": [
    "plt.plot(range(16), np.cumsum(pca.explained_variance_ratio_))\n",
    "plt.grid('on')\n",
    "plt.xlabel('Eigenvector')\n",
    "plt.ylabel('Explained Variance')"
   ]
  },
  {
   "cell_type": "code",
   "execution_count": 35,
   "metadata": {},
   "outputs": [],
   "source": [
    "clusters = kmeans_model.fit_predict(X_pca)"
   ]
  },
  {
   "cell_type": "code",
   "execution_count": 36,
   "metadata": {},
   "outputs": [
    {
     "name": "stdout",
     "output_type": "stream",
     "text": [
      "18, 12, 16, 11, 13, 5, 15\n"
     ]
    }
   ],
   "source": [
    "print(f'{list(clusters).count(0)}, {list(clusters).count(1)}, {list(clusters).count(2)}, {list(clusters).count(3)}, {list(clusters).count(4)}, {list(clusters).count(5)}, {list(clusters).count(6)}')"
   ]
  },
  {
   "cell_type": "code",
   "execution_count": 37,
   "metadata": {},
   "outputs": [],
   "source": [
    "pca2d = PCA(n_components=2)\n",
    "pca_2d = pca2d.fit_transform(X_pca)"
   ]
  },
  {
   "cell_type": "code",
   "execution_count": 38,
   "metadata": {},
   "outputs": [
    {
     "data": {
      "image/png": "[encoded data removed]",
      "text/plain": [
       "<Figure size 576x576 with 1 Axes>"
      ]
     },
     "metadata": {
      "needs_background": "light"
     },
     "output_type": "display_data"
    }
   ],
   "source": [
    "import pylab as pl\n",
    "pl.figure(figsize=(8,8))\n",
    "\n",
    "for i in range(0, X_pca.shape[0]):\n",
    "    if clusters[i] == 0:\n",
    "        c1 = pl.scatter(pca_2d[i,0], pca_2d[i,1], c='#1f77b4', marker='.', s=80)\n",
    "    elif clusters[i] == 1:\n",
    "        c2 = pl.scatter(pca_2d[i,0], pca_2d[i,1], c='#ff7f0e', marker='o', s=80)\n",
    "    elif clusters[i] == 2:\n",
    "        c3 = pl.scatter(pca_2d[i,0], pca_2d[i,1], c='#2ca02c', marker='^', s=80)\n",
    "    elif clusters[i] == 3:\n",
    "        c4 = pl.scatter(pca_2d[i,0], pca_2d[i,1], c='#d62728', marker='s', s=80)\n",
    "    elif clusters[i] == 4:\n",
    "        c5 = pl.scatter(pca_2d[i,0], pca_2d[i,1], c='#9467bd', marker='p', s=80)\n",
    "    elif clusters[i] == 5:\n",
    "        c6 = pl.scatter(pca_2d[i,0], pca_2d[i,1], c='#8c564b', marker='P', s=80)\n",
    "    elif clusters[i] == 6:\n",
    "        c7 = pl.scatter(pca_2d[i,0], pca_2d[i,1], c='#e377c2', marker='*', s=80)\n",
    "\n",
    "pl.legend([c1, c2, c3, c4, c5, c6, c7], ['Cluster 1', 'Cluster 2', 'Cluster 3', 'Cluster 4', 'Cluster 5', 'Cluster 6', 'Cluster 7'])\n",
    "pl.title('K-means clusters the dataset into clusters')\n",
    "pl.show()"
   ]
  },
  {
   "cell_type": "markdown",
   "metadata": {},
   "source": [
    "Seems that there are about 3 main clusters."
   ]
  },
  {
   "cell_type": "code",
   "execution_count": 39,
   "metadata": {},
   "outputs": [
    {
     "data": {
      "text/plain": [
       "array([4, 1, 1, 2, 2, 2, 2, 5, 7, 7, 4, 7, 3, 3, 4, 6, 7, 1, 1, 1, 2, 2,\n",
       "       2, 2, 2, 5, 1, 5, 3, 7, 5, 5, 5, 5, 5, 3, 3, 3, 7, 3, 3, 7, 3, 3,\n",
       "       4, 7, 4, 3, 6, 7, 6, 7, 7, 1, 1, 1, 1, 1, 1, 6, 3, 7, 3, 4, 4, 4,\n",
       "       4, 3, 7, 6, 1, 1, 1, 1, 2, 2, 2, 5, 5, 5, 5, 5, 3, 4, 4, 7, 7, 3,\n",
       "       1, 1])"
      ]
     },
     "execution_count": 39,
     "metadata": {},
     "output_type": "execute_result"
    }
   ],
   "source": [
    "clusters + 1"
   ]
  },
  {
   "cell_type": "code",
   "execution_count": 40,
   "metadata": {},
   "outputs": [
    {
     "data": {
      "text/plain": [
       "90"
      ]
     },
     "execution_count": 40,
     "metadata": {},
     "output_type": "execute_result"
    }
   ],
   "source": [
    "len(clusters)"
   ]
  },
  {
   "cell_type": "code",
   "execution_count": 41,
   "metadata": {},
   "outputs": [
    {
     "data": {
      "text/plain": [
       "90"
      ]
     },
     "execution_count": 41,
     "metadata": {},
     "output_type": "execute_result"
    }
   ],
   "source": [
    "len(X)"
   ]
  },
  {
   "cell_type": "code",
   "execution_count": 42,
   "metadata": {},
   "outputs": [
    {
     "data": {
      "text/plain": [
       "array([511353667, 513486993, 513506080, 514329317, 514472097, 514529424,\n",
       "       514583822, 515363895, 519501788, 519525238, 520119333, 520130914,\n",
       "       520779953, 520803608, 521095118, 521770033, 521804862, 522420188,\n",
       "       522542767, 522574215, 522779155, 523294848, 523317944, 523328731,\n",
       "       523514188, 524196111, 524421347, 524442000, 525397783, 525550553,\n",
       "       434603220, 434609975, 434617535, 434708231, 434752383, 435005397,\n",
       "       435006071, 435011399, 435067253, 435171863, 446744761, 446798723,\n",
       "       447019409, 447020385, 447074978, 447079489, 447091085, 447381509,\n",
       "       447441456, 447497220, 447523773, 447558662, 447647574, 447877104,\n",
       "       447986271, 447986377, 448003813, 448008007, 448041560, 448169651,\n",
       "       359420117, 359644089, 359970875, 359978168, 359978861, 360000762,\n",
       "       360057302, 360336485, 360402335, 360543623, 360778622, 360790021,\n",
       "       360802830, 360862630, 361304992, 361326979, 361369624, 361723648,\n",
       "       361772528, 361776660, 361815160, 361881265, 362094000, 362626040,\n",
       "       362924064, 362939931, 363177655, 363233153, 363655255, 363694039],\n",
       "      dtype=int64)"
      ]
     },
     "execution_count": 42,
     "metadata": {},
     "output_type": "execute_result"
    }
   ],
   "source": [
    "X.order_id.values"
   ]
  },
  {
   "cell_type": "code",
   "execution_count": 43,
   "metadata": {},
   "outputs": [],
   "source": [
    "pairs = []\n",
    "order_ids = list(X.order_id.values)\n",
    "\n",
    "for idx in range(len(X)):\n",
    "    pairs.append((order_ids[idx], clusters[idx]))"
   ]
  },
  {
   "cell_type": "code",
   "execution_count": 44,
   "metadata": {},
   "outputs": [],
   "source": [
    "cluster_tables = {}\n",
    "for cluster in range(7):\n",
    "    cluster_tables[cluster] = [order_id for order_id, label in pairs if label == cluster]"
   ]
  },
  {
   "cell_type": "code",
   "execution_count": 45,
   "metadata": {},
   "outputs": [
    {
     "name": "stdout",
     "output_type": "stream",
     "text": [
      "Table labeled as 1: 513486993\n",
      "Table labeled as 2: 514329317\n",
      "Table labeled as 3: 520779953\n",
      "Table labeled as 4: 511353667\n",
      "Table labeled as 5: 515363895\n",
      "Table labeled as 6: 521770033\n",
      "Table labeled as 7: 519501788\n"
     ]
    }
   ],
   "source": [
    "for cluster in range(7):\n",
    "    print(\"Table labeled as {}: {}\".format(cluster + 1, cluster_tables[cluster][0]))"
   ]
  },
  {
   "cell_type": "markdown",
   "metadata": {},
   "source": [
    "------"
   ]
  },
  {
   "cell_type": "code",
   "execution_count": 46,
   "metadata": {},
   "outputs": [],
   "source": [
    "FAMILY_EVENT = \"FAMILY_EVENT\"\n",
    "DRINKING = \"DRINKING\"\n",
    "BREAKFAST = \"BREAKFAST\"\n",
    "LUNCH = \"LUNCH\"\n",
    "DINNER = \"DINNER\"\n",
    "SOCIAL_GATHERING = \"SOCIAL_GATHERING\"\n",
    "AFTER_WORK = \"AFTER_WORK\"\n",
    "UNK = \"UNKNOWN\"\n",
    "\n",
    "\n",
    "class Bin3to5Classifier:\n",
    "    def __init__(self):\n",
    "        pass\n",
    "    \n",
    "    def _ToD(self, hour):\n",
    "        if hour >= 6 and hour < 11:\n",
    "            return BREAKFAST\n",
    "        elif hour >= 11 and hour <= 14:\n",
    "            return LUNCH\n",
    "        elif hour >= 16 and hour <= 22:\n",
    "            return DINNER\n",
    "        \n",
    "        return UNK\n",
    "    \n",
    "    def _is_after_work(self, day, hour):\n",
    "        if day in [\"Saturday\", \"Sunday\"]:\n",
    "            return False\n",
    "        if hour >= 15 and hour < 19:\n",
    "            return True\n",
    "        return False\n",
    "    \n",
    "    def classify(self, table):\n",
    "        if table[\"kids_meal\"].iloc[0]:\n",
    "            return FAMILY_EVENT\n",
    "\n",
    "        if table[\"total_orders_category_id_3.0\"].iloc[0] > 0 and table[\"total_orders_category_id_2.0\"].iloc[0] == 0:\n",
    "            return DRINKING\n",
    "        \n",
    "        if table[\"sharable\"].iloc[0] and \\\n",
    "                (table[\"total_large_meals\"].iloc[0] - table[\"total_large_sharable_meals\"].iloc[0]) < (table[\"guest_count\"].iloc[0] - 1):\n",
    "            if self._is_after_work(table[\"order_day_of_week\"].iloc[0], table[\"order_hour\"].iloc[0]):\n",
    "                return AFTER_WORK\n",
    "            return SOCIAL_GATHERING\n",
    "        \n",
    "        if table[\"total_orders_category_id_2.0\"].iloc[0] >= (table[\"guest_count\"].iloc[0] / 2):\n",
    "            return self._ToD(table[\"order_hour\"].iloc[0])\n",
    "        \n",
    "        return UNK"
   ]
  },
  {
   "cell_type": "code",
   "execution_count": 47,
   "metadata": {},
   "outputs": [],
   "source": [
    "classifier = Bin3to5Classifier()"
   ]
  },
  {
   "cell_type": "code",
   "execution_count": 48,
   "metadata": {},
   "outputs": [
    {
     "name": "stdout",
     "output_type": "stream",
     "text": [
      "Labels for Cluster 1: ['DINNER', 'FAMILY_EVENT', 'UNKNOWN', 'FAMILY_EVENT', 'FAMILY_EVENT', 'FAMILY_EVENT', 'LUNCH', 'FAMILY_EVENT', 'DINNER', 'FAMILY_EVENT', 'FAMILY_EVENT', 'DINNER', 'LUNCH', 'LUNCH', 'FAMILY_EVENT', 'AFTER_WORK', 'LUNCH', 'FAMILY_EVENT']\n",
      "\n",
      "Labels for Cluster 2: ['LUNCH', 'FAMILY_EVENT', 'SOCIAL_GATHERING', 'SOCIAL_GATHERING', 'DRINKING', 'FAMILY_EVENT', 'FAMILY_EVENT', 'LUNCH', 'DINNER', 'FAMILY_EVENT', 'FAMILY_EVENT', 'FAMILY_EVENT']\n",
      "\n",
      "Labels for Cluster 3: ['SOCIAL_GATHERING', 'LUNCH', 'LUNCH', 'LUNCH', 'LUNCH', 'LUNCH', 'UNKNOWN', 'LUNCH', 'LUNCH', 'LUNCH', 'LUNCH', 'LUNCH', 'LUNCH', 'SOCIAL_GATHERING', 'BREAKFAST', 'LUNCH']\n",
      "\n",
      "Labels for Cluster 4: ['UNKNOWN', 'DINNER', 'DRINKING', 'AFTER_WORK', 'DINNER', 'FAMILY_EVENT', 'UNKNOWN', 'DINNER', 'DINNER', 'UNKNOWN', 'AFTER_WORK']\n",
      "\n",
      "Labels for Cluster 5: ['BREAKFAST', 'LUNCH', 'DINNER', 'LUNCH', 'FAMILY_EVENT', 'DRINKING', 'DINNER', 'UNKNOWN', 'DINNER', 'DINNER', 'SOCIAL_GATHERING', 'DINNER', 'DRINKING']\n",
      "\n",
      "Labels for Cluster 6: ['DINNER', 'FAMILY_EVENT', 'FAMILY_EVENT', 'AFTER_WORK', 'UNKNOWN']\n",
      "\n",
      "Labels for Cluster 7: ['FAMILY_EVENT', 'DINNER', 'FAMILY_EVENT', 'DINNER', 'DINNER', 'DINNER', 'DINNER', 'DINNER', 'DRINKING', 'FAMILY_EVENT', 'DRINKING', 'SOCIAL_GATHERING', 'DINNER', 'UNKNOWN', 'BREAKFAST']\n",
      "\n"
     ]
    }
   ],
   "source": [
    "cluster_pred_labels = {}\n",
    "for cluster in range(7):\n",
    "    cluster_pred_labels[cluster] = [classifier.classify(df_orig[df_orig.order_id == table]) \\\n",
    "                                    for table in cluster_tables[cluster]]\n",
    "\n",
    "for cluster in range(7):\n",
    "    print(\"Labels for Cluster {}: {}\\n\".format(cluster + 1, cluster_pred_labels[cluster]))"
   ]
  },
  {
   "cell_type": "markdown",
   "metadata": {},
   "source": [
    "Nothing meaningful."
   ]
  },
  {
   "cell_type": "markdown",
   "metadata": {},
   "source": [
    "----"
   ]
  }
 ],
 "metadata": {
  "kernelspec": {
   "display_name": "Python 3",
   "language": "python",
   "name": "python3"
  },
  "language_info": {
   "codemirror_mode": {
    "name": "ipython",
    "version": 3
   },
   "file_extension": ".py",
   "mimetype": "text/x-python",
   "name": "python",
   "nbconvert_exporter": "python",
   "pygments_lexer": "ipython3",
   "version": "3.7.1"
  }
 },
 "nbformat": 4,
 "nbformat_minor": 2
}
